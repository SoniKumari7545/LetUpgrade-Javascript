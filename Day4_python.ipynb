{
  "nbformat": 4,
  "nbformat_minor": 0,
  "metadata": {
    "colab": {
      "name": "Day4_python.ipynb",
      "provenance": [],
      "authorship_tag": "ABX9TyOsRMwJOR4io8R72GxaZVj7",
      "include_colab_link": true
    },
    "kernelspec": {
      "name": "python3",
      "display_name": "Python 3"
    }
  },
  "cells": [
    {
      "cell_type": "markdown",
      "metadata": {
        "id": "view-in-github",
        "colab_type": "text"
      },
      "source": [
        "<a href=\"https://colab.research.google.com/github/SoniKumari7545/LetUpgrade-Javascript/blob/master/Day4_python.ipynb\" target=\"_parent\"><img src=\"https://colab.research.google.com/assets/colab-badge.svg\" alt=\"Open In Colab\"/></a>"
      ]
    },
    {
      "cell_type": "code",
      "metadata": {
        "id": "zXhYCv33uCUW",
        "colab_type": "code",
        "colab": {
          "base_uri": "https://localhost:8080/",
          "height": 54
        },
        "outputId": "30edece2-b2dc-4343-907a-fd6929648ced"
      },
      "source": [
        "for i in range(1042000,702648265):\n",
        "    Count=0\n",
        "    Count=int(Count)\n",
        "    num=i\n",
        "    Temp=0 \n",
        "    Temp=int(Temp)\n",
        "    while i>0:\n",
        "        i=i//10\n",
        "        Count=Count+1\n",
        "    i=num\n",
        "    while i>0:\n",
        "        A=i%10\n",
        "        i=i//10\n",
        "        Temp=Temp+pow(A,Count)\n",
        "    if Temp==num:\n",
        "        print(\" first Armstrong number is -\",num)\n",
        "        break"
      ],
      "execution_count": 30,
      "outputs": [
        {
          "output_type": "stream",
          "text": [
            " first Armstrong number is - 1741725\n"
          ],
          "name": "stdout"
        }
      ]
    }
  ]
}